{
 "cells": [
  {
   "cell_type": "code",
   "execution_count": 1,
   "metadata": {},
   "outputs": [
    {
     "name": "stderr",
     "output_type": "stream",
     "text": [
      "/home/iljae/Cognitive-Mapping/venv/lib64/python3.6/importlib/_bootstrap.py:219: RuntimeWarning: compiletime version 3.5 of module 'tensorflow.python.framework.fast_tensor_util' does not match runtime version 3.6\n",
      "  return f(*args, **kwds)\n"
     ]
    }
   ],
   "source": [
    "import tensorflow as tf\n",
    "import numpy as np"
   ]
  },
  {
   "cell_type": "code",
   "execution_count": 2,
   "metadata": {},
   "outputs": [],
   "source": [
    "images = tf.zeros(shape=[5, 10, 10, 1])\n",
    "translation = tf.constant(np.random.random(), shape=(1,))\n",
    "rotation = tf.constant(np.random.random() * np.pi, shape=(1,))"
   ]
  },
  {
   "cell_type": "code",
   "execution_count": 3,
   "metadata": {},
   "outputs": [],
   "source": [
    "transform = tf.reshape(tf.stack([tf.cos(rotation),\n",
    "                                 tf.sin(rotation),\n",
    "                                 tf.negative(translation),\n",
    "                                 tf.negative(tf.sin(rotation)),\n",
    "                                 tf.cos(rotation),\n",
    "                                 tf.zeros(1,),\n",
    "                                 tf.zeros(1,),\n",
    "                                 tf.zeros(1,)]), (8,))\n",
    "transform_op = tf.contrib.image.transform(images, transform)"
   ]
  },
  {
   "cell_type": "code",
   "execution_count": 4,
   "metadata": {},
   "outputs": [
    {
     "data": {
      "text/plain": [
       "[<tf.Tensor 'gradients/ImageProjectiveTransform_grad/ImageProjectiveTransform:0' shape=(5, 10, 10, 1) dtype=float32>]"
      ]
     },
     "execution_count": 4,
     "metadata": {},
     "output_type": "execute_result"
    }
   ],
   "source": [
    "tf.gradients(transform_op, [images])"
   ]
  }
 ],
 "metadata": {
  "kernelspec": {
   "display_name": "Python 3",
   "language": "python",
   "name": "python3"
  },
  "language_info": {
   "codemirror_mode": {
    "name": "ipython",
    "version": 3
   },
   "file_extension": ".py",
   "mimetype": "text/x-python",
   "name": "python",
   "nbconvert_exporter": "python",
   "pygments_lexer": "ipython3",
   "version": "3.6.4"
  }
 },
 "nbformat": 4,
 "nbformat_minor": 2
}
